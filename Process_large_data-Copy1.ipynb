{
 "cells": [
  {
   "cell_type": "markdown",
   "metadata": {},
   "source": [
    "# Process Data for All Flights\n",
    "---"
   ]
  },
  {
   "cell_type": "markdown",
   "metadata": {},
   "source": [
    "### Load Seaborn, Pandas, and other Libraries\n",
    "\n",
    "---"
   ]
  },
  {
   "cell_type": "code",
   "execution_count": 1,
   "metadata": {},
   "outputs": [],
   "source": [
    "import numpy as np\n",
    "import pandas as pd\n",
    "import matplotlib.pyplot as plt\n",
    "import math\n",
    "import seaborn as sns\n",
    "import os"
   ]
  },
  {
   "cell_type": "markdown",
   "metadata": {},
   "source": [
    "### Create a function to process data files one by one\n",
    "---"
   ]
  },
  {
   "cell_type": "markdown",
   "metadata": {},
   "source": [
    "##### Get a list of all files in the data folder:"
   ]
  },
  {
   "cell_type": "code",
   "execution_count": 2,
   "metadata": {},
   "outputs": [],
   "source": [
    "files = os.listdir('data')"
   ]
  },
  {
   "cell_type": "markdown",
   "metadata": {},
   "source": [
    "##### Function to do everything all at once:"
   ]
  },
  {
   "cell_type": "code",
   "execution_count": 4,
   "metadata": {},
   "outputs": [],
   "source": [
    "def process_file(filename):\n",
    "    # Read in airports and filter for small, medium, and large ones\n",
    "    airports = pd.read_csv('all_airports(Cleaned).csv', encoding = 'latin1')\n",
    "    airports = airports[(airports[\"Airport_Type\"] == 'large_airport') | (airports[\"Airport_Type\"] == 'small_airport') | (airports[\"Airport_Type\"] == 'medium_airport')]\n",
    "    \n",
    "    # Read in the flights file\n",
    "    flights = pd.read_csv(f'data/{filename}')\n",
    "    print(f'Reading in {filename}')\n",
    "    flights['origin'] = flights['origin'].str[1:]\n",
    "    flights['destination'] = flights['destination'].str[1:]\n",
    "    \n",
    "    # Inner join flights on origin with small, medium, large airport codes\n",
    "    flights = flights.merge(airports, left_on='origin', right_on='Airport_Code')\n",
    "    \n",
    "    # Rename columns\n",
    "    flights.rename(columns = {'callsign' : 'Airline', 'icao24' : 'Aircraft_ID', 'typecode' : 'Aircraft_type', \n",
    "                          'origin' : 'Origin_Airport_Code', 'destination' : 'Destination_Airport_Code',\n",
    "                          'firstseen' : 'Departure_Time', 'lastseen' : 'Arrival_Time',\n",
    "                          'day' : 'Date', 'Airport_Type' : 'Origin_Airport_Type', \n",
    "                          'Airport_Name' : 'Origin_Airport_Name', 'Country_Name' : 'Origin_Country_Name',\n",
    "                          'Longitude' : 'Origin_Airport_Longitude', 'Latitude' : 'Origin_Airport_Latitude'}, inplace=True)\n",
    "    \n",
    "    # Inner join flights on destination with small, medium, large airport codes\n",
    "    flights = flights.merge(airports, left_on='Destination_Airport_Code', right_on='Airport_Code')\n",
    "    \n",
    "    # Rename columns\n",
    "    flights.rename(columns = {'Airport_Type' : 'Destination_Airport_Type', \n",
    "                          'Airport_Name' : 'Destination_Airport_Name', 'Country_Name' : 'Destination_Country_Name',\n",
    "                          'Longitude' : 'Destination_Airport_Longitude', 'Latitude' : 'Destination_Airport_Latitude'}, inplace=True)\n",
    "    \n",
    "    # Drop unnecessary columns\n",
    "    flights.drop(columns =['number', 'registration', 'altitude_1', 'altitude_2', 'latitude_1', 'longitude_1','latitude_2', 'longitude_2', 'Country_x', 'Airport_Code_x', 'Country_y', 'Airport_Code_y'], axis=1, inplace=True)\n",
    "    \n",
    "   \n",
    "    # Convert to datetimes\n",
    "    flights['Date'] = pd.to_datetime(flights['Date'])\n",
    "    flights['Departure_Time'] = pd.to_datetime(flights['Departure_Time'])\n",
    "    flights['Arrival_Time'] = pd.to_datetime(flights['Arrival_Time'])\n",
    "    \n",
    "    # Reset the dataframe index and name it Row ID\n",
    "    flights.reset_index(drop=True, inplace=True)\n",
    "    flights.index.name='Row_ID'\n",
    "    \n",
    "    # Save file\n",
    "    flights.to_csv(f'Processed_large_data/{filename}')\n",
    "\n"
   ]
  },
  {
   "cell_type": "markdown",
   "metadata": {},
   "source": [
    "### Apply the function to all the files!"
   ]
  },
  {
   "cell_type": "code",
   "execution_count": 6,
   "metadata": {},
   "outputs": [
    {
     "name": "stderr",
     "output_type": "stream",
     "text": [
      "C:\\Users\\ryano\\AppData\\Local\\Temp\\ipykernel_12400\\863849898.py:7: DtypeWarning: Columns (1) have mixed types. Specify dtype option on import or set low_memory=False.\n",
      "  flights = pd.read_csv(f'data/{filename}')\n"
     ]
    },
    {
     "name": "stdout",
     "output_type": "stream",
     "text": [
      "Reading in flightlist_20190101_20190131.csv\n",
      "Reading in flightlist_20190201_20190228.csv\n",
      "Reading in flightlist_20190301_20190331.csv\n",
      "Reading in flightlist_20190401_20190430.csv\n",
      "Reading in flightlist_20190501_20190531.csv\n",
      "Reading in flightlist_20190601_20190630.csv\n",
      "Reading in flightlist_20190701_20190731.csv\n",
      "Reading in flightlist_20190801_20190831.csv\n",
      "Reading in flightlist_20190901_20190930.csv\n",
      "Reading in flightlist_20191001_20191031.csv\n",
      "Reading in flightlist_20191101_20191130.csv\n",
      "Reading in flightlist_20191201_20191231.csv\n",
      "Reading in flightlist_20200101_20200131.csv\n",
      "Reading in flightlist_20200201_20200229.csv\n",
      "Reading in flightlist_20200301_20200331.csv\n",
      "Reading in flightlist_20200401_20200430.csv\n",
      "Reading in flightlist_20200501_20200531.csv\n",
      "Reading in flightlist_20200601_20200630.csv\n",
      "Reading in flightlist_20200701_20200731.csv\n",
      "Reading in flightlist_20200801_20200831.csv\n",
      "Reading in flightlist_20200901_20200930.csv\n",
      "Reading in flightlist_20201001_20201031.csv\n",
      "Reading in flightlist_20201101_20201130.csv\n",
      "Reading in flightlist_20201201_20201231.csv\n",
      "Reading in flightlist_20210101_20210131.csv\n",
      "Reading in flightlist_20210201_20210228.csv\n",
      "Reading in flightlist_20210301_20210331.csv\n",
      "Reading in flightlist_20210401_20210430.csv\n",
      "Reading in flightlist_20210501_20210530.csv\n",
      "Reading in flightlist_20210601_20210630.csv\n",
      "Reading in flightlist_20210701_20210731.csv\n",
      "Reading in flightlist_20210801_20210831.csv\n",
      "Reading in flightlist_20210901_20210930.csv\n",
      "Reading in flightlist_20211001_20211031.csv\n",
      "Reading in flightlist_20211101_20211130.csv\n",
      "Reading in flightlist_20211201_20211231.csv\n",
      "Reading in flightlist_20220101_20220131.csv\n",
      "Reading in flightlist_20220201_20220228.csv\n",
      "Reading in flightlist_20220301_20220331.csv\n",
      "Reading in flightlist_20220401_20220430.csv\n",
      "Reading in flightlist_20220501_20220530.csv\n",
      "Reading in flightlist_20220601_20220630.csv\n"
     ]
    }
   ],
   "source": [
    "for file in files:\n",
    "    process_file(file)"
   ]
  },
  {
   "cell_type": "code",
   "execution_count": null,
   "metadata": {},
   "outputs": [],
   "source": []
  }
 ],
 "metadata": {
  "kernelspec": {
   "display_name": "Python 3 (ipykernel)",
   "language": "python",
   "name": "python3"
  },
  "language_info": {
   "codemirror_mode": {
    "name": "ipython",
    "version": 3
   },
   "file_extension": ".py",
   "mimetype": "text/x-python",
   "name": "python",
   "nbconvert_exporter": "python",
   "pygments_lexer": "ipython3",
   "version": "3.9.12"
  }
 },
 "nbformat": 4,
 "nbformat_minor": 4
}
